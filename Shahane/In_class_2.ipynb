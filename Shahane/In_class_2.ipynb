{
 "cells": [
  {
   "cell_type": "markdown",
   "metadata": {},
   "source": [
    "### Lists"
   ]
  },
  {
   "cell_type": "code",
   "execution_count": 1,
   "metadata": {},
   "outputs": [
    {
     "name": "stdout",
     "output_type": "stream",
     "text": [
      "5\n",
      "8\n"
     ]
    }
   ],
   "source": [
    "#1) Ստեղծեք a list-ը, որը պարունակում է հետևյալ արժեքները՝ 1, 4, 5, 7, 8, -2, 0, -1\n",
    "#2) Տպեք list-ի 3րդ ու 5րդ անդամների արժեքները\n",
    "a = [1, 4, 5, 7, 8, -2, 0, -1]\n",
    "print(a[2])\n",
    "print(a[4])"
   ]
  },
  {
   "cell_type": "code",
   "execution_count": 2,
   "metadata": {},
   "outputs": [
    {
     "data": {
      "text/plain": [
       "[8, 7, 5, 4, 1, 0, -1, -2]"
      ]
     },
     "execution_count": 2,
     "metadata": {},
     "output_type": "execute_result"
    }
   ],
   "source": [
    "#3) Սորտավորեք a list-ը նվազման կարգով և նոր ստացած սորտավորված list-ը\n",
    "#վերագրեք a_sorted փոփոխականին (Այս գործողության ընթացքում չպետք է փոխվի\n",
    "#սկզբնական a list-ը)\n",
    "sorted(a, reverse = True)"
   ]
  },
  {
   "cell_type": "code",
   "execution_count": 3,
   "metadata": {},
   "outputs": [
    {
     "name": "stdout",
     "output_type": "stream",
     "text": [
      "[1, 4, 5, 7, 8, -2, 0, -1]\n"
     ]
    }
   ],
   "source": [
    "a_sorted = sorted(a, reverse = True)\n",
    "print(a)"
   ]
  },
  {
   "cell_type": "code",
   "execution_count": 4,
   "metadata": {},
   "outputs": [
    {
     "name": "stdout",
     "output_type": "stream",
     "text": [
      "[8, 7]\n",
      "[7, 5, 4, 1, 0]\n"
     ]
    }
   ],
   "source": [
    "#4) Իրար տակ տպեք a_sorted list-ի 1...3 և 2...6 անդամները պարունակող sublist-երը\n",
    "print(a_sorted[:2])\n",
    "print(a_sorted[1:6])"
   ]
  },
  {
   "cell_type": "code",
   "execution_count": 5,
   "metadata": {},
   "outputs": [
    {
     "name": "stdout",
     "output_type": "stream",
     "text": [
      "2\n"
     ]
    }
   ],
   "source": [
    "#5) Տպեք a_sorted list-ի 5 արժեքով անդամի index-ը՝ օգտագործելով համապատասխան ֆունկցիա։\n",
    "print(a_sorted.index(5))"
   ]
  },
  {
   "cell_type": "code",
   "execution_count": 6,
   "metadata": {},
   "outputs": [
    {
     "name": "stdout",
     "output_type": "stream",
     "text": [
      "[8, 7, 5, 4, 1, 0, -1, -2]\n"
     ]
    }
   ],
   "source": [
    "#6) a_sorted list-ից ջնջեք 2 և 3 index-ով անդամները\n",
    "print(a_sorted)"
   ]
  },
  {
   "cell_type": "code",
   "execution_count": 7,
   "metadata": {},
   "outputs": [],
   "source": [
    "del a_sorted[2:4]"
   ]
  },
  {
   "cell_type": "code",
   "execution_count": 9,
   "metadata": {},
   "outputs": [
    {
     "name": "stdout",
     "output_type": "stream",
     "text": [
      "[8, 7, 1, 0, -1, -2]\n"
     ]
    }
   ],
   "source": [
    "#7) Տպեք a_sorted list-ը\n",
    "print(a_sorted)"
   ]
  },
  {
   "cell_type": "code",
   "execution_count": 10,
   "metadata": {},
   "outputs": [
    {
     "name": "stdout",
     "output_type": "stream",
     "text": [
      "['grapes', 'Potatoes', 'tomatoes', 'Orange', 'Lemon', 'Broccoli', 'Carrot', 'Sausages']\n"
     ]
    }
   ],
   "source": [
    "#8) Ստեղծեք b list-ը, որը պարունակում է հետևյալ արժեքները՝ “grapes”, “Potatoes”,\n",
    "#“tomatoes”, “Orange”, “Lemon”, “Broccoli”,“Carrot”, “Sausages”\n",
    "b = [\"grapes\", \"Potatoes\", \"tomatoes\", \"Orange\", \"Lemon\", \"Broccoli\", \"Carrot\", \"Sausages\"]\n",
    "print(b)"
   ]
  },
  {
   "cell_type": "code",
   "execution_count": 13,
   "metadata": {},
   "outputs": [
    {
     "data": {
      "text/plain": [
       "['Broccoli',\n",
       " 'Carrot',\n",
       " 'Lemon',\n",
       " 'Orange',\n",
       " 'Potatoes',\n",
       " 'Sausages',\n",
       " 'grapes',\n",
       " 'tomatoes']"
      ]
     },
     "execution_count": 13,
     "metadata": {},
     "output_type": "execute_result"
    }
   ],
   "source": [
    "#9) Սորտավորեք b list-ը աճման կարգով և նոր ստացած սորտավորված list-ը\n",
    "#վերագրեք b_sorted փոփոխականին (Այս գործողության ընթացքում չպետք է փոխվի սկզբնական b list-ը)\n",
    "sorted(b, reverse = False)"
   ]
  },
  {
   "cell_type": "code",
   "execution_count": 14,
   "metadata": {},
   "outputs": [
    {
     "name": "stdout",
     "output_type": "stream",
     "text": [
      "['grapes', 'Potatoes', 'tomatoes', 'Orange', 'Lemon', 'Broccoli', 'Carrot', 'Sausages']\n"
     ]
    }
   ],
   "source": [
    "b_sorted = sorted(b, reverse = False)\n",
    "print(b)"
   ]
  },
  {
   "cell_type": "code",
   "execution_count": 16,
   "metadata": {},
   "outputs": [
    {
     "name": "stdout",
     "output_type": "stream",
     "text": [
      "[1, 4, 5, 'Orange', 'Lemon', 'Broccoli']\n"
     ]
    }
   ],
   "source": [
    "#10) Ստեղծեք նոր c list, որի առաջին անդամներն են a list-ի 1...3 անդամները, որոնց\n",
    "#հաջորդում են b list-ի 4...6 անդամները\n",
    "c = a[:3] + b[3:6]\n",
    "#11) Տպեք ստացված с list-ը\n",
    "print(c)"
   ]
  },
  {
   "cell_type": "markdown",
   "metadata": {},
   "source": [
    "### Sets"
   ]
  },
  {
   "cell_type": "code",
   "execution_count": 17,
   "metadata": {},
   "outputs": [
    {
     "name": "stdout",
     "output_type": "stream",
     "text": [
      "['Cookies', 'Chocolate', 8, True, -3, -5, 'Chocolate', 8, False, 8]\n"
     ]
    }
   ],
   "source": [
    "#1) Ստեղծեք a1 list-ը, որը պարունակում է հետևյալ արժեքները՝ “Cookies”, “Chocolate”,\n",
    "# 8, True, -3, -5, ”Chocolate”, 8, False, 8\n",
    "a1 = [\"Cookies\", \"Chocolate\", 8, True, -3, -5, \"Chocolate\", 8, False, 8]\n",
    "print(a1)"
   ]
  },
  {
   "cell_type": "code",
   "execution_count": 18,
   "metadata": {},
   "outputs": [
    {
     "name": "stdout",
     "output_type": "stream",
     "text": [
      "[8, True, 10, 14, 'Chocolate', 'Milk', 'Jelly', True, False, True]\n"
     ]
    }
   ],
   "source": [
    "#2) Ստեղծեք b1 list-ը, որը պարունակում է հետևյալ արժեքները՝ 8, True, 10, 14,\n",
    "#“Chocolate”, “Milk”, ”Jelly”, True, False, True\n",
    "b1 = [8, True, 10, 14, \"Chocolate\", \"Milk\", \"Jelly\", True, False, True]\n",
    "print(b1)"
   ]
  },
  {
   "cell_type": "code",
   "execution_count": 19,
   "metadata": {},
   "outputs": [
    {
     "name": "stdout",
     "output_type": "stream",
     "text": [
      "{False, True, 'Cookies', 8, 'Chocolate', -5, -3}\n"
     ]
    }
   ],
   "source": [
    "#3) Դարձրեք (convert) a1 list-ը set ու պահեք set_a փոփոխականի մեջ\n",
    "set_a = set(a1)\n",
    "print(set_a)"
   ]
  },
  {
   "cell_type": "code",
   "execution_count": 20,
   "metadata": {},
   "outputs": [
    {
     "name": "stdout",
     "output_type": "stream",
     "text": [
      "{False, True, 8, 10, 14, 'Milk', 'Chocolate', 'Jelly'}\n"
     ]
    }
   ],
   "source": [
    "#4) Դարձրեք (convert) b1 list-ը set ու պահեք set_b փոփոխականի մեջ\n",
    "set_b = set(b1)\n",
    "print(set_b)"
   ]
  },
  {
   "cell_type": "code",
   "execution_count": 21,
   "metadata": {},
   "outputs": [
    {
     "name": "stdout",
     "output_type": "stream",
     "text": [
      "{False, True, 'Cookies', 8, 10, 14, 'Milk', 'Chocolate', -5, 'Jelly', -3}\n"
     ]
    }
   ],
   "source": [
    "#5) Գտեք set_a -ի ու set_b -ի միավորումը (union) ու պահեք union_ab փոփոխականի մեջ\n",
    "union_ab = set_a.union(set_b)\n",
    "print(union_ab)"
   ]
  },
  {
   "cell_type": "code",
   "execution_count": 22,
   "metadata": {},
   "outputs": [
    {
     "name": "stdout",
     "output_type": "stream",
     "text": [
      "{False, True, 'Chocolate', 8}\n"
     ]
    }
   ],
   "source": [
    "#6) Գտեք set_a -ի ու set_b -ի հատումը (intersection) ու պահեք intersection_ab փոփոխականի մեջ\n",
    "intersection_ab = set_a.intersection(set_b)\n",
    "print(intersection_ab)"
   ]
  },
  {
   "cell_type": "code",
   "execution_count": 23,
   "metadata": {},
   "outputs": [
    {
     "name": "stdout",
     "output_type": "stream",
     "text": [
      "{False, True, 'Oreo', 'Cookies', 8, 10, 14, 'Milk', 'Chocolate', 'Kit-Kat', -5, 'Jelly', -3}\n"
     ]
    }
   ],
   "source": [
    "#7) Ավելացրեք “Kit-Kat” ու “Oreo” արժեքները union_ab set-ին ու տպեք union_ab set-ը\n",
    "union_ab.update({\"Kit-Kat\", \"Oreo\"})\n",
    "print(union_ab)"
   ]
  },
  {
   "cell_type": "code",
   "execution_count": 24,
   "metadata": {},
   "outputs": [
    {
     "name": "stdout",
     "output_type": "stream",
     "text": [
      "{False, True, 'Oreo', 'Cookies', 8, 10, 14, 'Milk', 'Chocolate', 'Kit-Kat', -5, 'Jelly', -3}\n"
     ]
    }
   ],
   "source": [
    "#8) Կիրառեք or գործողությունը union_ab ու intersection_ab set-երի միջև ու արդյունքը\n",
    "#պահեք new_set փոփոխականի մեջ, այնուհետև տպեք new_set փոփոխականը\n",
    "new_set = union_ab or intersection_ab\n",
    "print(new_set)"
   ]
  },
  {
   "cell_type": "code",
   "execution_count": 25,
   "metadata": {},
   "outputs": [
    {
     "data": {
      "text/plain": [
       "True"
      ]
     },
     "execution_count": 25,
     "metadata": {},
     "output_type": "execute_result"
    }
   ],
   "source": [
    "#9) Ստուգեք, թե արդյոք new_set set-ը պարունակում է “Chocolate” արժեքը\n",
    "\"Chocolate\" in new_set"
   ]
  },
  {
   "cell_type": "code",
   "execution_count": 26,
   "metadata": {},
   "outputs": [
    {
     "name": "stdout",
     "output_type": "stream",
     "text": [
      "{False, True, 'Cookies', 8, 10, 14, 'Milk', 'Chocolate', 'Kit-Kat', -5, 'Jelly', -3}\n"
     ]
    }
   ],
   "source": [
    "#10 Ջնջեք “Oreo” արժեքը new_set set-ից, այնուհետև տպեք new_set set-ը\n",
    "new_set.discard(\"Oreo\")\n",
    "print(new_set)"
   ]
  },
  {
   "cell_type": "markdown",
   "metadata": {},
   "source": [
    "### Tuples"
   ]
  },
  {
   "cell_type": "code",
   "execution_count": 27,
   "metadata": {},
   "outputs": [
    {
     "data": {
      "text/plain": [
       "tuple"
      ]
     },
     "execution_count": 27,
     "metadata": {},
     "output_type": "execute_result"
    }
   ],
   "source": [
    "#1) Ստեղծեք t1 tuple-ը, որը պարունակում է հետևյալ արժեքները՝ 1, True, “a”, -2, “Anna”\n",
    "t1 = 1, True, \"a\", -2, \"Anna\"\n",
    "type(t1)"
   ]
  },
  {
   "cell_type": "code",
   "execution_count": 29,
   "metadata": {},
   "outputs": [
    {
     "ename": "SyntaxError",
     "evalue": "can't delete function call (<ipython-input-29-b182b8e3b99a>, line 2)",
     "output_type": "error",
     "traceback": [
      "\u001b[1;36m  File \u001b[1;32m\"<ipython-input-29-b182b8e3b99a>\"\u001b[1;36m, line \u001b[1;32m2\u001b[0m\n\u001b[1;33m    del t1(\"True\")\u001b[0m\n\u001b[1;37m       ^\u001b[0m\n\u001b[1;31mSyntaxError\u001b[0m\u001b[1;31m:\u001b[0m can't delete function call\n"
     ]
    }
   ],
   "source": [
    "#2) t1 tuple-ից ջնջեք “True” արժեքը, այնուհետև տպեք t1 tuple-ը\n",
    "del t1(\"True\")\n",
    "print(t1)"
   ]
  },
  {
   "cell_type": "code",
   "execution_count": 30,
   "metadata": {},
   "outputs": [
    {
     "data": {
      "text/plain": [
       "tuple"
      ]
     },
     "execution_count": 30,
     "metadata": {},
     "output_type": "execute_result"
    }
   ],
   "source": [
    "#3) Ստեղծեք t2 tuple-ը, որը պարունակում է հետևյալ արժեքները՝ 1, 2, 3, 4, 5\n",
    "t2 = 1, 2, 3, 4, 5\n",
    "type(t2)"
   ]
  },
  {
   "cell_type": "code",
   "execution_count": 31,
   "metadata": {},
   "outputs": [
    {
     "name": "stdout",
     "output_type": "stream",
     "text": [
      "(1, True, 1, 2, 3)\n"
     ]
    }
   ],
   "source": [
    "#4) Ստեղծեք t3 tuple-ը, որի առաջին 2 անդամները t1 tuple առաջին 2 անդամներն են,\n",
    "#իսկ հաջորդ 3 անդամները t2 tuple-ի առաջին 3 անդամները\n",
    "t3 = t1[:2] + t2[:3]\n",
    "print(t3)"
   ]
  },
  {
   "cell_type": "code",
   "execution_count": 32,
   "metadata": {},
   "outputs": [
    {
     "name": "stdout",
     "output_type": "stream",
     "text": [
      "3\n"
     ]
    }
   ],
   "source": [
    "#5) Տպեք t3 tuple-ի 2 index-ով անդամը\n",
    "print(t3.index(2))"
   ]
  },
  {
   "cell_type": "code",
   "execution_count": 33,
   "metadata": {},
   "outputs": [
    {
     "name": "stdout",
     "output_type": "stream",
     "text": [
      "3\n"
     ]
    }
   ],
   "source": [
    "#6) Ստեղծեք t4 tuple-ների list-ը հետևյալ արժեքով՝ [(1,3,5), (8,9), (“Anna”, “Bob”,\n",
    "#“Alice”)] ։ Տպեք t4 -ի առաջին անդամի երկրորդ անդամը\n",
    "t4 = [(1, 3, 5), (8, 9), (\"Anna\", \"Bob\", \"Alice\")]\n",
    "print(t4[0][1])"
   ]
  },
  {
   "cell_type": "code",
   "execution_count": null,
   "metadata": {},
   "outputs": [],
   "source": []
  }
 ],
 "metadata": {
  "kernelspec": {
   "display_name": "Python 3",
   "language": "python",
   "name": "python3"
  },
  "language_info": {
   "codemirror_mode": {
    "name": "ipython",
    "version": 3
   },
   "file_extension": ".py",
   "mimetype": "text/x-python",
   "name": "python",
   "nbconvert_exporter": "python",
   "pygments_lexer": "ipython3",
   "version": "3.6.5"
  }
 },
 "nbformat": 4,
 "nbformat_minor": 2
}
