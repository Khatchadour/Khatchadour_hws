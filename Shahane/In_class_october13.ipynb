{
 "cells": [
  {
   "cell_type": "markdown",
   "metadata": {},
   "source": [
    "### Exercise 1"
   ]
  },
  {
   "cell_type": "code",
   "execution_count": 4,
   "metadata": {},
   "outputs": [
    {
     "name": "stdout",
     "output_type": "stream",
     "text": [
      "No module named 'vardan'\n"
     ]
    }
   ],
   "source": [
    "try:\n",
    "    from vardan import vasak\n",
    "except Exception as e:\n",
    "    print(e)"
   ]
  },
  {
   "cell_type": "markdown",
   "metadata": {},
   "source": [
    "### Exercise 2"
   ]
  },
  {
   "cell_type": "code",
   "execution_count": 5,
   "metadata": {},
   "outputs": [
    {
     "name": "stdout",
     "output_type": "stream",
     "text": [
      "the entry is: a\n",
      "Oops! unsupported operand type(s) for /: 'int' and 'str'\n",
      "the entry is: 0\n",
      "Oops! division by zero\n",
      "the entry is: 2\n",
      "0.5\n"
     ]
    }
   ],
   "source": [
    "my_list = ['a', 0, 2]\n",
    "\n",
    "for i in my_list:\n",
    "    try:\n",
    "        print('the entry is: %s' % i)\n",
    "        print(1 / i)\n",
    "    except Exception as e:\n",
    "        print('Oops!', e)\n",
    "     "
   ]
  },
  {
   "cell_type": "markdown",
   "metadata": {},
   "source": [
    "### Exercise 3"
   ]
  },
  {
   "cell_type": "code",
   "execution_count": 6,
   "metadata": {},
   "outputs": [
    {
     "name": "stdout",
     "output_type": "stream",
     "text": [
      "Username: Batman\n",
      "Welcome, Batman!\n"
     ]
    }
   ],
   "source": [
    "class MyException(Exception):\n",
    "    pass\n",
    "while True:\n",
    "    try:\n",
    "        username = input('Username: ')\n",
    "        if username == 'Rambo':\n",
    "            raise MyException('\"Rambo\" is not a valid username')\n",
    "        else: \n",
    "            print('Welcome, %s!' % username)\n",
    "            break\n",
    "    except Exception as e:\n",
    "        print(e)\n",
    "        \n",
    "    "
   ]
  },
  {
   "cell_type": "code",
   "execution_count": null,
   "metadata": {},
   "outputs": [],
   "source": []
  }
 ],
 "metadata": {
  "kernelspec": {
   "display_name": "Python 3",
   "language": "python",
   "name": "python3"
  },
  "language_info": {
   "codemirror_mode": {
    "name": "ipython",
    "version": 3
   },
   "file_extension": ".py",
   "mimetype": "text/x-python",
   "name": "python",
   "nbconvert_exporter": "python",
   "pygments_lexer": "ipython3",
   "version": "3.6.5"
  }
 },
 "nbformat": 4,
 "nbformat_minor": 2
}
