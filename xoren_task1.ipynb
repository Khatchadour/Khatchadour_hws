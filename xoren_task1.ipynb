{
 "cells": [
  {
   "cell_type": "code",
   "execution_count": 1,
   "metadata": {},
   "outputs": [
    {
     "name": "stdout",
     "output_type": "stream",
     "text": [
      "a: 0 \n",
      "b: 0 \n",
      "c: 0 \n",
      "d: 1 \n",
      "e: 1 \n",
      "f: 0 \n",
      "g: 0 \n",
      "h: 1 \n",
      "i: 0 \n",
      "j: 0 \n",
      "k: 0 \n",
      "l: 3 \n",
      "m: 0 \n",
      "n: 0 \n",
      "o: 2 \n",
      "p: 0 \n",
      "q: 0 \n",
      "r: 1 \n",
      "s: 0 \n",
      "t: 0 \n",
      "u: 0 \n",
      "v: 0 \n",
      "w: 1 \n",
      "x: 0 \n",
      "y: 0 \n",
      "z: 0 \n",
      "!: 1 \n",
      ",: 1 \n"
     ]
    }
   ],
   "source": [
    "s = \"hello, world!\"\n",
    "s = s.lower()\n",
    "print(\"a: %s \" % s.count(\"a\"))\n",
    "print(\"b: %s \" % s.count(\"b\"))\n",
    "print(\"c: %s \" % s.count(\"c\"))\n",
    "print(\"d: %s \" % s.count(\"d\"))\n",
    "print(\"e: %s \" % s.count(\"e\"))\n",
    "print(\"f: %s \" % s.count(\"f\"))\n",
    "print(\"g: %s \" % s.count(\"g\"))\n",
    "print(\"h: %s \" % s.count(\"h\"))\n",
    "print(\"i: %s \" % s.count(\"i\"))\n",
    "print(\"j: %s \" % s.count(\"j\"))\n",
    "print(\"k: %s \" % s.count(\"k\"))\n",
    "print(\"l: %s \" % s.count(\"l\"))\n",
    "print(\"m: %s \" % s.count(\"m\"))\n",
    "print(\"n: %s \" % s.count(\"n\"))\n",
    "print(\"o: %s \" % s.count(\"o\"))\n",
    "print(\"p: %s \" % s.count(\"p\"))\n",
    "print(\"q: %s \" % s.count(\"q\"))\n",
    "print(\"r: %s \" % s.count(\"r\"))\n",
    "print(\"s: %s \" % s.count(\"s\"))\n",
    "print(\"t: %s \" % s.count(\"t\"))\n",
    "print(\"u: %s \" % s.count(\"u\"))\n",
    "print(\"v: %s \" % s.count(\"v\"))\n",
    "print(\"w: %s \" % s.count(\"w\"))\n",
    "print(\"x: %s \" % s.count(\"x\"))\n",
    "print(\"y: %s \" % s.count(\"y\"))\n",
    "print(\"z: %s \" % s.count(\"z\"))\n",
    "print(\"!: %s \" % s.count(\"!\"))\n",
    "print(\",: %s \" % s.count(\",\"))"
   ]
  },
  {
   "cell_type": "code",
   "execution_count": null,
   "metadata": {},
   "outputs": [],
   "source": []
  }
 ],
 "metadata": {
  "kernelspec": {
   "display_name": "Python 3",
   "language": "python",
   "name": "python3"
  },
  "language_info": {
   "codemirror_mode": {
    "name": "ipython",
    "version": 3
   },
   "file_extension": ".py",
   "mimetype": "text/x-python",
   "name": "python",
   "nbconvert_exporter": "python",
   "pygments_lexer": "ipython3",
   "version": "3.6.5"
  }
 },
 "nbformat": 4,
 "nbformat_minor": 2
}
