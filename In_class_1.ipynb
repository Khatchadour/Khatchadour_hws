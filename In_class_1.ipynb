{
 "cells": [
  {
   "cell_type": "code",
   "execution_count": 1,
   "metadata": {},
   "outputs": [
    {
     "name": "stdout",
     "output_type": "stream",
     "text": [
      "course:  Intro to python\n",
      "student:  Khatchadour Papikian\n",
      "nickname:  Abris\n",
      "pythonExpert:  100\n",
      "grade:  True\n"
     ]
    }
   ],
   "source": [
    "course = \"Intro to python\"\n",
    "student = \"Khatchadour Papikian\"\n",
    "nickname = \"Abris\"\n",
    "pythonExpert = int(100)\n",
    "grade = True\n",
    "print('course: ', course)\n",
    "print('student: ', student)\n",
    "print('nickname: ', nickname)\n",
    "print('pythonExpert: ', pythonExpert)\n",
    "print('grade: ', grade)"
   ]
  },
  {
   "cell_type": "code",
   "execution_count": 2,
   "metadata": {},
   "outputs": [
    {
     "name": "stdout",
     "output_type": "stream",
     "text": [
      "course:  Intro to python\n",
      "student:  Khatchadour Papikian\n",
      "nickname:  Abris\n",
      "pythonExpert:  100\n",
      "grade:  True\n"
     ]
    }
   ],
   "source": [
    "course, student, nickname, pythonExpert, grade = \"Intro to python\", \"Khatchadour Papikian\", \"Abris\", int(100), True\n",
    "print('course: ', course)\n",
    "print('student: ', student)\n",
    "print('nickname: ', nickname)\n",
    "print('pythonExpert: ', pythonExpert)\n",
    "print('grade: ', grade)"
   ]
  },
  {
   "cell_type": "code",
   "execution_count": 4,
   "metadata": {},
   "outputs": [
    {
     "name": "stdout",
     "output_type": "stream",
     "text": [
      "The hypotenuse of triangle ABC:  5\n"
     ]
    }
   ],
   "source": [
    "import math\n",
    "AB = int(3)\n",
    "AC = int(4)\n",
    "BC = int(math.sqrt(AB**2+AC**2))\n",
    "print('The hypotenuse of triangle ABC: ', BC)"
   ]
  },
  {
   "cell_type": "code",
   "execution_count": 12,
   "metadata": {},
   "outputs": [
    {
     "name": "stdout",
     "output_type": "stream",
     "text": [
      "Wed Sep 19 12:30:16 2018\n",
      "Year:  2018\n",
      "Month:  9\n",
      "Day of the week (version 0):  3\n",
      "Day of the week (version 1):  2\n"
     ]
    }
   ],
   "source": [
    "import datetime\n",
    "import time\n",
    "import calendar\n",
    "tday = datetime.date.today()\n",
    "print(time.ctime())\n",
    "print('Year: ', tday.year)\n",
    "print('Month: ', tday.month)\n",
    "print('Day of the week (version 0): ', tday.isoweekday())\n",
    "print('Day of the week (version 1): ', tday.weekday())"
   ]
  },
  {
   "cell_type": "code",
   "execution_count": 13,
   "metadata": {},
   "outputs": [
    {
     "name": "stdout",
     "output_type": "stream",
     "text": [
      "Today:  2018-09-19 12:40:14.409647\n",
      "-5 days:  2018-09-14 12:40:14.409647\n"
     ]
    }
   ],
   "source": [
    "tday = datetime.datetime.today()\n",
    "tdelta = datetime.timedelta(days = 5)\n",
    "print('Today: ', tday)\n",
    "print('-5 days: ', tday - tdelta)"
   ]
  },
  {
   "cell_type": "code",
   "execution_count": 14,
   "metadata": {},
   "outputs": [
    {
     "name": "stdout",
     "output_type": "stream",
     "text": [
      "Now:  2018-09-19 12:43:02.358359\n",
      "+5 seconds:  2018-09-19 12:43:07.358359\n"
     ]
    }
   ],
   "source": [
    "now = datetime.datetime.now()\n",
    "tdelta = datetime.timedelta(seconds = 5)\n",
    "print('Now: ', now)\n",
    "print('+5 seconds: ', now + tdelta)"
   ]
  },
  {
   "cell_type": "code",
   "execution_count": 18,
   "metadata": {},
   "outputs": [
    {
     "name": "stdout",
     "output_type": "stream",
     "text": [
      "Today:  2018-09-19 12:55:35.474729\n",
      "Last Monday and Current Time:  2018-09-10 12:55:35.474729\n"
     ]
    }
   ],
   "source": [
    "tday = datetime.datetime.now()\n",
    "tdelta = datetime.timedelta(days = 9)\n",
    "print('Today: ', tday)\n",
    "print('Last Monday and Current Time: ', tday - tdelta)"
   ]
  },
  {
   "cell_type": "code",
   "execution_count": null,
   "metadata": {},
   "outputs": [],
   "source": []
  }
 ],
 "metadata": {
  "kernelspec": {
   "display_name": "Python 3",
   "language": "python",
   "name": "python3"
  },
  "language_info": {
   "codemirror_mode": {
    "name": "ipython",
    "version": 3
   },
   "file_extension": ".py",
   "mimetype": "text/x-python",
   "name": "python",
   "nbconvert_exporter": "python",
   "pygments_lexer": "ipython3",
   "version": "3.6.5"
  }
 },
 "nbformat": 4,
 "nbformat_minor": 2
}
